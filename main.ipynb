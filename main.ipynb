{
 "cells": [
  {
   "attachments": {},
   "cell_type": "markdown",
   "metadata": {},
   "source": [
    "#"
   ]
  },
  {
   "cell_type": "markdown",
   "metadata": {},
   "source": [
    "# Aufbau der Hausübungen\n",
    "\n",
    "Die Struktur der Hausübungen folgt immer dem gleichen Muster:\n",
    "\n",
    "```bash\n",
    ".\n",
    "├── README.md       # Hinweise zum Bearbeitungszeitraum und Überblick (.md = Markdown)\n",
    "├── main.ipynb      # Details zur Aufgabenstellung  (.ipynb = Jupyter Notebook)\n",
    "├── task1.py        # Erste Aufgabe (.py = Python-Quellcode)\n",
    "├── task2.py        # Zweite Aufgabe\n",
    "├── task3.py        # Dritte Aufgabe\n",
    "├── test_task1.py   # Tests zur ersten Aufgabe\n",
    "├── test_task2.py   # Tests zur zweiten Aufgabe\n",
    "├── test_task3.py   # Tests zur dritten Aufgabe\n",
    "├── .expected-files # Listet die für die Bewertung relevanten Dateien\n",
    "├── .tests          # Listet die für die Bewertung relevanten Tests\n",
    "├── .gitattributes  # Einstellungen wie git mit Zeilenumbrüchen in Textdateien umgehen soll\n",
    "├── .gitignore      # Muster für Dateipfade die von git standardmässig nicht beachtet werden\n",
    "└── .git            # git Konfiguration und \"Buchhaltung\" \n",
    "```\n",
    "\n",
    "---"
   ]
  },
  {
   "cell_type": "markdown",
   "metadata": {},
   "source": [
    "## Benötigte Werkzeuge\n",
    "\n",
    "Die folgenden Werkzeuge werden zur Bearbeitung der Hausübungen benötigt: \n",
    "\n",
    "- **git**: Zum Abgeben Ihrer Ausarbeitungen/Implementierungen der Hausübungen.\n",
    "- **Python3**: Die Programmiersprache die zur Anwendung kommt. \n",
    "- Python Bibliothek **Numpy**: Weit verbreitete Bibliothek zur effizienten Handhabung von multidimensionalen Feldern (*arrays*).\n",
    "- Python Bibliothek **Matplotlib**: Weit verbreitete Bibliothek zum Plotten von Daten.\n",
    "- Die **Jupyter**-Umgebung zum interaktiven ausführen von Python-Notebooks\n",
    "\n",
    "Eine detaillierte Beschreibung der empfohlenen Schritte zur Konfiguration des eigenen Systems finden Sie hier: \n",
    "\n",
    "**https://sgit.iue.tuwien.ac.at/360049/setup**\n",
    "\n",
    "Eine Schritt-für-Schritt Anleitung zum Abgabeprozess mittels *git* finden Sie hier:\n",
    "\n",
    "**https://sgit.iue.tuwien.ac.at/360049/git**\n",
    "\n",
    "---"
   ]
  },
  {
   "cell_type": "markdown",
   "metadata": {},
   "source": [
    "## Aufgabe 1: Überprüfung Betriebssystem und Python-Installation (1 Punkt)\n",
    "\n",
    "**Voraussetzung:** Sie haben **Python3** auf Ihrem System installiert.\n",
    "\n",
    "In der Datei [`task1.py`](task1.py) sind zwei Funktionen implementiert, die Detailinformationen zu Ihrem Betriebssystem und der installierten Python-Implementierung erfassen und in der Konsole ausgeben sowie in zwei Log-Dateien `os_info.txt` und `python_info.txt` speichern.\n",
    "\n",
    "In der Datei [`test_task1.py`](test_task1.py) befinden Sich die der Aufgabe zugeordneten Tests.\n",
    "\n",
    "**Sie brauchen an den Dateien [`task1.py`](task1.py) und [`test_task1.py`](test_task1.py) nichts zu ändern!**\n",
    "\n",
    "Sie können die Tests mit einem der folgenden Befehl ausführen:\n",
    "\n",
    "```bash\n",
    "python test_task1.py\n",
    "python test_task1.py -v\n",
    "python -m unittest test_task1.py\n",
    "```\n",
    "\n",
    "Wenn die Tests erfolgreich waren sollten Sie in der Konsole ein `OK` sehen. Im Falle eines Fehlschlags sollte `FAILED` samt einer Fehlermeldung, die Aufschluss über das Problem gibt, in der Konsole zu lesen sein.\n",
    "\n",
    "---"
   ]
  },
  {
   "cell_type": "markdown",
   "metadata": {},
   "source": [
    "## Aufgabe 2: Überprüfung benötigter Bibliotheken (1 Punkt)\n",
    "\n",
    "**Voraussetzung 1:** Sie haben **Python3** auf Ihrem System installiert.\n",
    "\n",
    "**Voraussetzung 2:** Sie haben **Numpy** und **Matplotlib** für Ihre Python3-Umgebung installiert.\n",
    "\n",
    "In der Datei [`task2.py`](task2.py) sind zwei Funktionen implementiert, die Detailinformationen zu den Bibliotheken erfassen und in zwei Log-Dateien `numpy_info.txt` und `matplotlib_info.txt` speichern.\n",
    "\n",
    "In der Datei [`test_task2.py`](test_task2.py) befinden Sich die der Aufgabe zugeordneten Tests.\n",
    "\n",
    "**Sie brauchen an den Dateien [`task2.py`](task2.py) und [`test_task2.py`](test_task2.py) nichts zu ändern!**\n",
    "\n",
    "Sie können die Tests mit einem der folgenden Befehl ausführen:\n",
    "\n",
    "```bash\n",
    "python test_task2.py\n",
    "python test_task2.py -v\n",
    "python -m unittest test_task2.py\n",
    "```\n",
    "\n",
    "Wenn die Tests erfolgreich waren sollten Sie in der Konsole ein `OK` sehen. Im Falle eines Fehlschlags sollte `FAILED` samt einer Fehlermeldung, die Aufschluss über das Problem gibt, in der Konsole zu lesen sein.\n",
    "\n",
    "---"
   ]
  },
  {
   "cell_type": "markdown",
   "metadata": {},
   "source": [
    "## Aufgabe 3: Beispielhafte Anwendung der benötigten Bibliotheken (1 Punkt)\n",
    "\n",
    "**Voraussetzung 1:** Sie haben **Python3** auf Ihrem System installiert.\n",
    "\n",
    "**Voraussetzung 2:** Sie haben **Numpy** und **Matplotlib** für Ihre Python3-Umgebung installiert.\n",
    "\n",
    "In der Datei [`task3.py`](task3.py) sind zwei Funktionen implementiert, die *Numpy* (Zufallszahlen in die Datei `np_demo.csv` schreiben) und *Matplotlib* ( $sin(x)$ Abtasten und in `mpl_demo.svg` plotten) beispielhaft anwenden.\n",
    "\n",
    "In der Datei [`test_task3.py`](test_task3.py) befinden Sich die der Aufgabe zugeordneten Tests.\n",
    "\n",
    "**Sie brauchen an den Dateien [`task3.py`](task3.py) und [`test_task3.py`](test_task3.py) nichts zu ändern!**\n",
    "\n",
    "Sie können die Tests mit einem der folgenden Befehl ausführen:\n",
    "\n",
    "```bash\n",
    "python test_task3.py\n",
    "python test_task3.py -v\n",
    "python -m unittest test_task3.py\n",
    "```\n",
    "\n",
    "Wenn die Tests erfolgreich waren sollten Sie in der Konsole ein `OK` sehen. Im Falle eines Fehlschlags sollte `FAILED` samt einer Fehlermeldung, die Aufschluss über das Problem gibt, in der Konsole zu lesen sein.\n",
    "\n",
    "---"
   ]
  },
  {
   "cell_type": "markdown",
   "metadata": {},
   "source": [
    "## Finales Testen aller drei Aufgabenteile\n",
    "\n",
    "Vor der finalen Abgabe einer Hausübung sollten Sie jedenfalls einmal alle Aufgabenteile gesammelt testen:\n",
    "\n",
    "```bash\n",
    "python -m unittest -v\n",
    "```\n",
    "\n",
    "---"
   ]
  }
 ],
 "metadata": {
  "kernelspec": {
   "display_name": "Python 3",
   "language": "python",
   "name": "python3"
  },
  "language_info": {
   "codemirror_mode": {
    "name": "ipython",
    "version": 3
   },
   "file_extension": ".py",
   "mimetype": "text/x-python",
   "name": "python",
   "nbconvert_exporter": "python",
   "pygments_lexer": "ipython3",
   "version": "3.6.9"
  },
  "orig_nbformat": 4
 },
 "nbformat": 4,
 "nbformat_minor": 2
}
